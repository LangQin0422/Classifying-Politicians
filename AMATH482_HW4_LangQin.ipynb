{
  "nbformat": 4,
  "nbformat_minor": 0,
  "metadata": {
    "colab": {
      "name": "AMATH482_HW4_LangQin.ipynb",
      "provenance": [],
      "collapsed_sections": []
    },
    "kernelspec": {
      "name": "python3",
      "display_name": "Python 3"
    },
    "language_info": {
      "name": "python"
    }
  },
  "cells": [
    {
      "cell_type": "markdown",
      "source": [
        "# AMATH 482 Homework 4 - *Classifying Politicians*\n",
        "\n",
        "## Lang Qin"
      ],
      "metadata": {
        "id": "bH_nb9SocjK4"
      }
    },
    {
      "cell_type": "markdown",
      "source": [
        "# Environment Setup\n",
        "\n",
        "We first connect our notebook to personal google drive."
      ],
      "metadata": {
        "id": "HVO2KFiacqkj"
      }
    },
    {
      "cell_type": "code",
      "source": [
        "from google.colab import drive\n",
        "\n",
        "# the following command loads up your google drive. It will promp you to give Colab access to your Gdrive\n",
        "drive.mount('/content/drive')"
      ],
      "metadata": {
        "colab": {
          "base_uri": "https://localhost:8080/"
        },
        "id": "xZrYcfBhcghC",
        "outputId": "d630e380-a249-4a66-c9dc-a04ce5c95b1e"
      },
      "execution_count": 1,
      "outputs": [
        {
          "output_type": "stream",
          "name": "stdout",
          "text": [
            "Mounted at /content/drive\n"
          ]
        }
      ]
    },
    {
      "cell_type": "markdown",
      "source": [
        "Then, we read in the given the dataset. "
      ],
      "metadata": {
        "id": "Em5wBE38ct1g"
      }
    },
    {
      "cell_type": "code",
      "source": [
        "import numpy as np\n",
        "import matplotlib.pyplot as plt\n",
        "\n",
        "path_to_data = '/content/drive/My Drive/AMATH 482/HW4/house-votes-84.data'\n",
        "\n",
        "df = np.loadtxt(path_to_data, delimiter = ',', dtype =object)"
      ],
      "metadata": {
        "id": "pJOJCE3XcyGl"
      },
      "execution_count": 4,
      "outputs": []
    },
    {
      "cell_type": "markdown",
      "source": [
        "# Data Preprocessing\n",
        "\n",
        "Construct the output vector $y$ by assigning labels $\\{-1, 1\\}$ to members of different parties.\n",
        "\n",
        "Construct the input vectors $x_j$ corresponding to the voting records of each member by replacing $'y'$ votes with $+1$, $'n'$ votes with $-1$ and '?' with 0.\n",
        "\n",
        "This step gives a vector $\\mathbf{y}\\in\\mathbb{R}^{435}$ and input matrix $\\mathbf{X}\\in\\mathbb{R}^{435×16}$, where $\\mathbf{X}$ conforms `sklearn` convention. "
      ],
      "metadata": {
        "id": "k7jyh76cdh4w"
      }
    },
    {
      "cell_type": "code",
      "source": [
        "# initialize storages for x and y\n",
        "x_shape = (df.shape[0], df.shape[1]-1)\n",
        "x = np.zeros(x_shape)\n",
        "y = []\n",
        "\n",
        "# generate x and y\n",
        "row_count = 0\n",
        "\n",
        "for votes in df:\n",
        "    for i in range(len(votes)):\n",
        "        # assign y\n",
        "        if votes[i] == 'republican':\n",
        "            y.append(1)\n",
        "        elif votes[i] == 'democrat':\n",
        "            y.append(-1)\n",
        "        # assign x\n",
        "        if votes[i] == 'n':\n",
        "            x[row_count ,i-1] = -1\n",
        "        elif votes[i] == 'y':\n",
        "            x[row_count, i-1] = 1\n",
        "        else:\n",
        "            x[row_count, i-1] = 0\n",
        "\n",
        "    row_count += 1\n",
        "    \n",
        "y = np.asarray(y)"
      ],
      "metadata": {
        "id": "9KCXd63cedK9"
      },
      "execution_count": 5,
      "outputs": []
    },
    {
      "cell_type": "code",
      "source": [
        "print(\"X shape: \", x.shape)\n",
        "print(\"y shape: \", y.shape)"
      ],
      "metadata": {
        "colab": {
          "base_uri": "https://localhost:8080/"
        },
        "id": "CG0WGR0YgzRx",
        "outputId": "ee2f8437-0d4a-4339-8351-73549a8fd798"
      },
      "execution_count": 6,
      "outputs": [
        {
          "output_type": "stream",
          "name": "stdout",
          "text": [
            "X shape:  (435, 16)\n",
            "y shape:  (435,)\n"
          ]
        }
      ]
    },
    {
      "cell_type": "markdown",
      "source": [
        "# Spectral Clustering\n",
        "\n",
        "## Unnormalized graph Laplacian matrix on $\\mathbf{X}$\n",
        "\n",
        "\n",
        "\n",
        "Construct the unnormalized graph Laplacian matrix on 𝑋 using the weight function\n",
        "$$\n",
        "\\eta(t) = \\exp{\\left(-\\frac{t^2}{2\\sigma^2}\\right)}\n",
        "$$\n",
        "with variance parameter $\\sigma$ and compute its second eigenvector (i.e., the Fiedler vector) which we\n",
        "denote as $\\mathbf{q}_1$.\n",
        "\n",
        "Take $\\mathbf{q}_1$ as the classifier and compute the classification accuracy."
      ],
      "metadata": {
        "id": "zHPpu8AofqWX"
      }
    },
    {
      "cell_type": "code",
      "source": [
        "# weight function\n",
        "def eta(t, r):\n",
        "    val = np.exp(-(t**2)/(2*r**2)) \n",
        "    return val.astype(float)"
      ],
      "metadata": {
        "id": "YeNGuyvVfQU3"
      },
      "execution_count": 7,
      "outputs": []
    },
    {
      "cell_type": "code",
      "source": [
        "import scipy.spatial\n",
        "\n",
        "dist = scipy.spatial.distance_matrix(x, x, p=2)\n",
        "error = []\n",
        "\n",
        "sigmas = np.arange(0.1, 4, 0.01)\n",
        "for sigma in sigmas:\n",
        "    W = eta(dist, sigma)\n",
        "    D = np.diag(np.sum(W, axis=1))\n",
        "\n",
        "    # eigen decomposition \n",
        "    values, vectors = np.linalg.eigh(D - W)\n",
        "\n",
        "    # sort the eigenvalues and vectors \n",
        "    idx = values.argsort()\n",
        "    vectors = vectors[:, idx]\n",
        "\n",
        "    # extract the second eigenvector\n",
        "    q1 = vectors[:, 1]\n",
        "    \n",
        "    # compute classificiation accuracy\n",
        "    y_pred = []\n",
        "\n",
        "    # adjust the prediction\n",
        "    for element in q1:\n",
        "        if element < 0:\n",
        "            y_pred.append(-1)\n",
        "        else:\n",
        "            y_pred.append(1)\n",
        "\n",
        "    y_pred = np.asarray(y_pred)\n",
        "\n",
        "    # feature misclassified results\n",
        "    curr_error = 1 - np.count_nonzero(y_pred == y)/435\n",
        "\n",
        "    # compute errors\n",
        "    if curr_error < 0.5:\n",
        "        error.append(curr_error)\n",
        "    elif curr_error > 0.5:\n",
        "        error.append(1 - curr_error)\n",
        "\n",
        "error = np.asarray(error)\n",
        "cluster_accuracy = 1 - error"
      ],
      "metadata": {
        "id": "92optX5CmIyN"
      },
      "execution_count": 12,
      "outputs": []
    },
    {
      "cell_type": "markdown",
      "source": [
        "Extract $\\sigma^*$, the optimal variance parameter achieving maximum clustring accuracy."
      ],
      "metadata": {
        "id": "n5BjN5b96okF"
      }
    },
    {
      "cell_type": "code",
      "source": [
        "# indicies associated with the maximum accuracy\n",
        "idx = np.array(np.where(cluster_accuracy==cluster_accuracy.max()), dtype=int)\n",
        "\n",
        "# extract sigmas at the indcies \n",
        "sigmas[idx]"
      ],
      "metadata": {
        "colab": {
          "base_uri": "https://localhost:8080/"
        },
        "id": "-XwDRHyr7oU3",
        "outputId": "b93ab907-425d-4a9e-ab8a-aa8e8a5c101f"
      },
      "execution_count": 13,
      "outputs": [
        {
          "output_type": "execute_result",
          "data": {
            "text/plain": [
              "array([[1.17, 1.47, 1.48, 3.32, 3.33, 3.34, 3.35, 3.36, 3.37, 3.38, 3.39,\n",
              "        3.4 , 3.41, 3.42, 3.43, 3.44, 3.45, 3.46, 3.47, 3.48, 3.49, 3.5 ,\n",
              "        3.51, 3.52, 3.53]])"
            ]
          },
          "metadata": {},
          "execution_count": 13
        }
      ]
    },
    {
      "cell_type": "code",
      "source": [
        "# check the errors at the above indcies\n",
        "error[idx]"
      ],
      "metadata": {
        "colab": {
          "base_uri": "https://localhost:8080/"
        },
        "id": "b7EOulT579yR",
        "outputId": "29fe9633-1a89-4174-db5b-3a247d54091c"
      },
      "execution_count": 14,
      "outputs": [
        {
          "output_type": "execute_result",
          "data": {
            "text/plain": [
              "array([[0.11954023, 0.11954023, 0.11954023, 0.11954023, 0.11954023,\n",
              "        0.11954023, 0.11954023, 0.11954023, 0.11954023, 0.11954023,\n",
              "        0.11954023, 0.11954023, 0.11954023, 0.11954023, 0.11954023,\n",
              "        0.11954023, 0.11954023, 0.11954023, 0.11954023, 0.11954023,\n",
              "        0.11954023, 0.11954023, 0.11954023, 0.11954023, 0.11954023]])"
            ]
          },
          "metadata": {},
          "execution_count": 14
        }
      ]
    },
    {
      "cell_type": "markdown",
      "source": [
        "## Accuracy function plot\n",
        "\n",
        "Plot accuracy as a function of $\\sigma$."
      ],
      "metadata": {
        "id": "_TwWrluU9n54"
      }
    },
    {
      "cell_type": "code",
      "source": [
        "fig = plt.figure(dpi = 100)\n",
        "ax = plt.axes()\n",
        "\n",
        "ax.scatter(sigmas, cluster_accuracy, s=10)\n",
        "ax.set_title(\"Clustering Accuracy as a Function of $\\sigma$\")\n",
        "ax.set_xlabel(\"$\\sigma$\")\n",
        "_ = ax.set_ylabel(\"accuracy\")\n",
        "ax.grid()"
      ],
      "metadata": {
        "colab": {
          "base_uri": "https://localhost:8080/",
          "height": 406
        },
        "id": "drotTKxQ9uvS",
        "outputId": "93ce2aaf-e84b-416e-81fb-9ff8a9fbc941"
      },
      "execution_count": 15,
      "outputs": [
        {
          "output_type": "display_data",
          "data": {
            "image/png": "[encoded data removed]",
            "text/plain": [
              "<Figure size 600x400 with 1 Axes>"
            ]
          },
          "metadata": {
            "needs_background": "light"
          }
        }
      ]
    },
    {
      "cell_type": "markdown",
      "source": [
        "Here, we pick 1.17 as our $\\sigma^*$.\n"
      ],
      "metadata": {
        "id": "2Nr1Wate8xUY"
      }
    },
    {
      "cell_type": "markdown",
      "source": [
        "# Semi-supervised Learning"
      ],
      "metadata": {
        "id": "RtBvxmsMDkHP"
      }
    },
    {
      "cell_type": "code",
      "source": [
        "# initialize M and J\n",
        "M = [2,3,4,5,6]\n",
        "J = [5,10,20,40]"
      ],
      "metadata": {
        "id": "lr4SpoWSgamj"
      },
      "execution_count": 16,
      "outputs": []
    },
    {
      "cell_type": "markdown",
      "source": [
        "## Find the optimal parameter $M^*$ and $J^*$. "
      ],
      "metadata": {
        "id": "WcTHGLo3gvfC"
      }
    },
    {
      "cell_type": "code",
      "source": [
        "from sklearn.linear_model import Ridge\n",
        "\n",
        "# optimal sigma obtained in previous section\n",
        "sigma_opt = 1.17\n",
        "\n",
        "# construct Laplacian matrix\n",
        "dist = scipy.spatial.distance_matrix(x, x, p=2)       \n",
        "W = eta(dist, sigma_opt)\n",
        "D = np.diag(np.sum(W, axis=1))\n",
        "# x = np.zeros(x_shape) has been defined in previous seciton\n",
        "\n",
        "# compute eigendecompositions \n",
        "values, vectors = np.linalg.eigh(D - W)\n",
        "\n",
        "# sort the eigenvalues and vectors \n",
        "idx = values.argsort()\n",
        "vector = vectors[:, idx]\n",
        "\n",
        "error_ss = np.zeros([len(J), len(M)])\n",
        "row = 0\n",
        "col = 0\n",
        "for j in J:\n",
        "    for m in M:\n",
        "        curr = vectors[0:j, 0:m]\n",
        "\n",
        "        # develop the linear model\n",
        "        model = Ridge(alpha = 0, fit_intercept=False)\n",
        "        model.fit(curr, y[0:j])\n",
        "\n",
        "        curr_pred =  np.dot(vector[:,0:m], model.coef_)\n",
        "        \n",
        "        # adjust the predictions\n",
        "        curr_pred_adjusted = []\n",
        "        for element in curr_pred:\n",
        "            curr_pred_adjusted.append(-1) if element < 0 else curr_pred_adjusted.append(1)\n",
        "        \n",
        "        curr_pred_adjusted = np.asarray(curr_pred_adjusted)\n",
        "\n",
        "        # compute SSL adjusted errors\n",
        "        curr_error = 1 - np.count_nonzero(curr_pred_adjusted == y)/435\n",
        "        error_ss[row, col] = (curr_error)\n",
        "        col += 1\n",
        "\n",
        "    col = 0\n",
        "    row += 1\n",
        "\n",
        "# compute accuracy from error\n",
        "accuracy_ss = 1 - error_ss"
      ],
      "metadata": {
        "id": "DxKe9GCug6Bw"
      },
      "execution_count": 17,
      "outputs": []
    },
    {
      "cell_type": "code",
      "source": [
        "# preview the adjusted SSL accuarcy\n",
        "print(accuracy_ss)\n",
        "\n",
        "# extract the highest accuracy\n",
        "accuracy_ss_max = np.max(accuracy_ss)\n",
        "print(\"Maximum accuracy: \", accuracy_ss_max)\n",
        "\n",
        "# determine the optiaml parameter M* and J*\n",
        "np.array(np.where(accuracy_ss == accuracy_ss_max), dtype=int)"
      ],
      "metadata": {
        "colab": {
          "base_uri": "https://localhost:8080/"
        },
        "id": "CvHRDz0smGRW",
        "outputId": "3b12694b-0d67-4044-d6cf-dce789df4726"
      },
      "execution_count": 18,
      "outputs": [
        {
          "output_type": "stream",
          "name": "stdout",
          "text": [
            "[[0.88965517 0.88735632 0.84137931 0.86896552 0.86896552]\n",
            " [0.88735632 0.81609195 0.85057471 0.70114943 0.68965517]\n",
            " [0.88275862 0.82298851 0.86436782 0.84137931 0.87586207]\n",
            " [0.88045977 0.83908046 0.87586207 0.88045977 0.86436782]]\n",
            "Maximum accuracy:  0.8896551724137931\n"
          ]
        },
        {
          "output_type": "execute_result",
          "data": {
            "text/plain": [
              "array([[0],\n",
              "       [0]])"
            ]
          },
          "metadata": {},
          "execution_count": 18
        }
      ]
    },
    {
      "cell_type": "markdown",
      "source": [
        "Thus, we choose $M^*=2$ and $J^*=5$ as the optimal parameters."
      ],
      "metadata": {
        "id": "CjDOf_0YqA-2"
      }
    },
    {
      "cell_type": "markdown",
      "source": [
        "## Behavior plot of optimal $F(X)\\hat{β}$"
      ],
      "metadata": {
        "id": "YjNahWoWqXBD"
      }
    },
    {
      "cell_type": "code",
      "source": [
        "# compute the result at optimality\n",
        "model = Ridge(alpha = 0, fit_intercept=False)\n",
        "model.fit(vectors[0:5, 0:2], y[0:5])\n",
        "\n",
        "pred = np.dot(vector[:,0:2], model.coef_)\n",
        "\n",
        "pred_adjusted = []\n",
        "for element in pred:\n",
        "    pred_adjusted.append(-1) if element < 0 else pred_adjusted.append(1)"
      ],
      "metadata": {
        "id": "sRxyB4ZNqS0v"
      },
      "execution_count": 19,
      "outputs": []
    },
    {
      "cell_type": "code",
      "source": [
        "# plot\n",
        "Y = np.zeros((y.shape[0]))\n",
        "F = np.zeros((y.shape[0]))\n",
        "\n",
        "idx_demo = np.array(np.where(y==y.min()), dtype=int).T\n",
        "count_demo = idx_demo.shape[0]\n",
        "\n",
        "F[0:count_demo] = pred[idx_demo.flatten()]\n",
        "Y[0:count_demo] = y[idx_demo.flatten()]\n",
        "\n",
        "idx_re = np.array(np.where(y == y.max()), dtype=int).T\n",
        "count_re = idx_re.shape[0]\n",
        "\n",
        "F[count_demo : count_demo+count_re] = pred[idx_re.flatten()]\n",
        "Y[count_demo : count_demo+count_re] = y[idx_re.flatten()]\n",
        "\n",
        "fig = plt.figure(dpi = 100)\n",
        "ax = plt.axes()\n",
        "ax.scatter(F, np.arange(count_demo + count_re), c=Y, s=10, cmap='brg')\n",
        "ax.set_xlabel('$F(x)\\beta$')\n",
        "ax.set_xlim(-8, 3)\n",
        "ax.set_ylabel(\"index\")"
      ],
      "metadata": {
        "colab": {
          "base_uri": "https://localhost:8080/",
          "height": 401
        },
        "id": "OOPg763SsIpZ",
        "outputId": "afffc536-db74-4b21-ec8f-00543239acb3"
      },
      "execution_count": 20,
      "outputs": [
        {
          "output_type": "execute_result",
          "data": {
            "text/plain": [
              "Text(0, 0.5, 'index')"
            ]
          },
          "metadata": {},
          "execution_count": 20
        },
        {
          "output_type": "display_data",
          "data": {
            "image/png": "[encoded data removed]",
            "text/plain": [
              "<Figure size 600x400 with 1 Axes>"
            ]
          },
          "metadata": {
            "needs_background": "light"
          }
        }
      ]
    },
    {
      "cell_type": "markdown",
      "source": [
        "## Behavior plot of optimal classifier"
      ],
      "metadata": {
        "id": "9hL_1QXxywig"
      }
    },
    {
      "cell_type": "code",
      "source": [
        "# plot for republican\n",
        "fig, ax = plt.subplots(1, 2, figsize=(16, 3))\n",
        "\n",
        "ax[0].scatter(np.arange(200), y[:200], c=y[:200], cmap='brg')\n",
        "ax[0].set_xlabel('Index', fontsize=15)\n",
        "ax[0].set_ylabel('Republican', fontsize=15)\n",
        "ax[0].set_title('True', fontsize=15)\n",
        "ax[0].set_ylim(0.96, 1.04)\n",
        "\n",
        "ax[1].scatter(np.arange(200), pred_adjusted[:200], c=pred_adjusted[:200], cmap='brg')\n",
        "ax[1].set_xlabel('Index', fontsize=15)\n",
        "ax[1].set_title('Predicted', fontsize=15)\n",
        "ax[1].set_ylim(0.96, 1.04)"
      ],
      "metadata": {
        "colab": {
          "base_uri": "https://localhost:8080/",
          "height": 265
        },
        "id": "4--31opjy1RB",
        "outputId": "8ce3c5b3-4f59-4387-a937-05cad11d86b4"
      },
      "execution_count": 21,
      "outputs": [
        {
          "output_type": "execute_result",
          "data": {
            "text/plain": [
              "(0.96, 1.04)"
            ]
          },
          "metadata": {},
          "execution_count": 21
        },
        {
          "output_type": "display_data",
          "data": {
            "image/png": "[encoded data removed]",
            "text/plain": [
              "<Figure size 1152x216 with 2 Axes>"
            ]
          },
          "metadata": {
            "needs_background": "light"
          }
        }
      ]
    },
    {
      "cell_type": "code",
      "source": [
        "# plot for democrat\n",
        "fig, ax = plt.subplots(1, 2, figsize=(16, 3))\n",
        "\n",
        "ax[0].scatter(np.arange(200), y[:200], c=y[:200], cmap='brg')\n",
        "ax[0].set_xlabel('Index', fontsize=15)\n",
        "ax[0].set_ylabel('Democrat', fontsize=15)\n",
        "ax[0].set_title('True Labels', fontsize=15)\n",
        "ax[0].set_ylim(-0.96,-1.04)\n",
        "\n",
        "ax[1].scatter(np.arange(200), pred_adjusted[:200], c=pred_adjusted[:200], cmap='brg')\n",
        "ax[1].set_xlabel('Index', fontsize=15)\n",
        "ax[1].set_ylabel('Democrat', fontsize=15)\n",
        "ax[1].set_title('Predicted Labels', fontsize=15)\n",
        "ax[1].set_ylim(-0.96,-1.04)"
      ],
      "metadata": {
        "colab": {
          "base_uri": "https://localhost:8080/",
          "height": 264
        },
        "id": "LhPMT6eazh2C",
        "outputId": "5ece7b68-9e68-4861-95c1-ad4bc3a273aa"
      },
      "execution_count": 22,
      "outputs": [
        {
          "output_type": "execute_result",
          "data": {
            "text/plain": [
              "(-0.96, -1.04)"
            ]
          },
          "metadata": {},
          "execution_count": 22
        },
        {
          "output_type": "display_data",
          "data": {
            "image/png": "[encoded data removed]",
            "text/plain": [
              "<Figure size 1152x216 with 2 Axes>"
            ]
          },
          "metadata": {
            "needs_background": "light"
          }
        }
      ]
    }
  ]
}